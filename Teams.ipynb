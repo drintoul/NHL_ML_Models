{
 "cells": [
  {
   "cell_type": "markdown",
   "metadata": {},
   "source": [
    "# Teams"
   ]
  },
  {
   "cell_type": "markdown",
   "metadata": {},
   "source": [
    "Get List of NHL Teams"
   ]
  },
  {
   "cell_type": "markdown",
   "metadata": {},
   "source": [
    "## Imports"
   ]
  },
  {
   "cell_type": "code",
   "execution_count": 81,
   "metadata": {},
   "outputs": [],
   "source": [
    "import pandas as pd\n",
    "import requests\n",
    "from bs4 import BeautifulSoup\n",
    "import pyodbc"
   ]
  },
  {
   "cell_type": "markdown",
   "metadata": {},
   "source": [
    "## Credentials"
   ]
  },
  {
   "cell_type": "code",
   "execution_count": 82,
   "metadata": {},
   "outputs": [],
   "source": [
    "with open('credentials.csv', 'r') as f:\n",
    "\n",
    "    userid, password = pd.read_csv(f, skipinitialspace=True)"
   ]
  },
  {
   "cell_type": "markdown",
   "metadata": {},
   "source": [
    "## Get URL with Teams"
   ]
  },
  {
   "cell_type": "code",
   "execution_count": 83,
   "metadata": {},
   "outputs": [],
   "source": [
    "def Connect_DB(database, userid, password):\n",
    "\n",
    "    try:\n",
    "\n",
    "        driver = '{ODBC Driver 17 for SQL Server}'\n",
    "        query = 'DRIVER={};SERVER=linuxserver;DATABASE={};UID={};PWD={}'.format(driver, database, userid, password)\n",
    "\n",
    "        cnxn = pyodbc.connect(query)\n",
    "        cnxn.autocommit = True\n",
    "\n",
    "        return cnxn\n",
    "\n",
    "    except:\n",
    "        \n",
    "        return Null"
   ]
  },
  {
   "cell_type": "code",
   "execution_count": 84,
   "metadata": {},
   "outputs": [],
   "source": [
    "def Get_Teams(url):\n",
    "\n",
    "    page = requests.get(url)\n",
    "    soup = BeautifulSoup(page.content, 'html.parser')\n",
    "\n",
    "    conferences = soup.findAll('section', {'class': 'conference'})\n",
    "\n",
    "    teams = list()\n",
    "\n",
    "    for conference in conferences:\n",
    "\n",
    "        conf = conference.h2.text.replace('Conference', '').strip()\n",
    "\n",
    "        divisions = conference.findAll('div', {'class': 'division'})\n",
    "\n",
    "        for division in divisions:\n",
    "\n",
    "            div = division.h3.text.replace('Division', '').strip()\n",
    "\n",
    "            team_cities = division.findAll('a', {'class': 'team-city'})\n",
    "        \n",
    "            for team_city in team_cities:\n",
    "\n",
    "                city = team_city.find('span').text.strip()\n",
    "                name = team_city.find('span').findNext('span').text.strip()\n",
    "\n",
    "                listing = (city + ' ' + name, conf, div)\n",
    "\n",
    "                teams.append(listing)\n",
    "\n",
    "    return teams[:-1] # exclude Seattle for now"
   ]
  },
  {
   "cell_type": "code",
   "execution_count": 85,
   "metadata": {},
   "outputs": [],
   "source": [
    "def Save_Data_to_Teams(teams):\n",
    "\n",
    "    cursor = cnxn.cursor()\n",
    "    \n",
    "    if not cursor.tables(table='Teams', tableType='TABLE').fetchone():\n",
    "\n",
    "        query = \"\"\"CREATE TABLE Teams ( \\\n",
    "                       team varchar(50) PRIMARY KEY NOT NULL, \\\n",
    "                       conference varchar(50) NOT NULL, \\\n",
    "                       division varchar(50) NOT NULL)\"\"\"\n",
    "\n",
    "        cursor.execute(query)\n",
    "\n",
    "    try:\n",
    "\n",
    "        cnxn.autocommit = False\n",
    "        cursor.executemany(\"INSERT INTO Teams(team, conference, division) VALUES (?, ?, ?)\", teams)\n",
    "\n",
    "    except pyodbc.DatabaseError as err:\n",
    "\n",
    "        #print (f'Error: {err}')\n",
    "        cnxn.rollback()\n",
    "\n",
    "    else:\n",
    "\n",
    "        cnxn.commit()\n",
    "\n",
    "    finally:\n",
    "\n",
    "        cnxn.autocommit = True"
   ]
  },
  {
   "cell_type": "markdown",
   "metadata": {},
   "source": [
    "## Main"
   ]
  },
  {
   "cell_type": "code",
   "execution_count": 86,
   "metadata": {},
   "outputs": [],
   "source": [
    "if __name__ == '__main__':\n",
    "    \n",
    "    cnxn = Connect_DB('NHL', userid, password)\n",
    "    url = pd.read_sql(\"SELECT [url] FROM URLs WHERE [use] = 'teams'\", cnxn).values[0][0]\n",
    "    \n",
    "    teams = Get_Teams(url)\n",
    "    \n",
    "    Save_Data_to_Teams(teams)"
   ]
  }
 ],
 "metadata": {
  "kernelspec": {
   "display_name": "Python 3",
   "language": "python",
   "name": "python3"
  },
  "language_info": {
   "codemirror_mode": {
    "name": "ipython",
    "version": 3
   },
   "file_extension": ".py",
   "mimetype": "text/x-python",
   "name": "python",
   "nbconvert_exporter": "python",
   "pygments_lexer": "ipython3",
   "version": "3.6.9"
  }
 },
 "nbformat": 4,
 "nbformat_minor": 2
}
